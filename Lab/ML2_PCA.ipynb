{
  "cells": [
    {
      "cell_type": "markdown",
      "metadata": {
        "id": "view-in-github",
        "colab_type": "text"
      },
      "source": [
        "<a href=\"https://colab.research.google.com/github/ylfoo/ERA3036/blob/main/Lab/ML2_PCA.ipynb\" target=\"_parent\"><img src=\"https://colab.research.google.com/assets/colab-badge.svg\" alt=\"Open In Colab\"/></a>"
      ]
    },
    {
      "cell_type": "markdown",
      "id": "829d0d37-2615-470c-88c6-204e752a8b86",
      "metadata": {
        "id": "829d0d37-2615-470c-88c6-204e752a8b86"
      },
      "source": [
        "## ERA3036 Lab ML2\n",
        "#### Exercise 2.2"
      ]
    },
    {
      "cell_type": "markdown",
      "id": "c2c74e9d-b7dd-4bdd-8a8b-aef504c1fc62",
      "metadata": {
        "id": "c2c74e9d-b7dd-4bdd-8a8b-aef504c1fc62"
      },
      "source": [
        "Name:  \n",
        "Student ID:  \n",
        "Date of Experiment:"
      ]
    },
    {
      "cell_type": "code",
      "execution_count": null,
      "id": "9181c596-8613-4776-ad12-2eac5d4b75ce",
      "metadata": {
        "tags": [],
        "id": "9181c596-8613-4776-ad12-2eac5d4b75ce"
      },
      "outputs": [],
      "source": [
        "# Initialization\n",
        "%matplotlib inline\n",
        "from warnings import filterwarnings\n",
        "filterwarnings('ignore')"
      ]
    },
    {
      "cell_type": "code",
      "execution_count": null,
      "id": "3fbea833-00f6-44a4-9d1d-3ac086589195",
      "metadata": {
        "tags": [],
        "id": "3fbea833-00f6-44a4-9d1d-3ac086589195"
      },
      "outputs": [],
      "source": [
        "# Load libraries\n",
        "from pandas import read_csv\n",
        "from sklearn.linear_model import LogisticRegression\n",
        "from sklearn.neighbors import KNeighborsClassifier\n",
        "from sklearn.naive_bayes import GaussianNB\n",
        "from sklearn.svm import SVC\n",
        "from sklearn.tree import DecisionTreeClassifier\n",
        "from sklearn.ensemble import RandomForestClassifier, GradientBoostingClassifier\n",
        "from sklearn.neural_network import MLPClassifier\n",
        "from sklearn.model_selection import KFold, cross_val_score\n",
        "from sklearn.decomposition import PCA\n",
        "from sklearn.preprocessing import StandardScaler"
      ]
    },
    {
      "cell_type": "code",
      "execution_count": null,
      "id": "793e4fd7-e637-4abb-bcde-885f07688038",
      "metadata": {
        "tags": [],
        "id": "793e4fd7-e637-4abb-bcde-885f07688038"
      },
      "outputs": [],
      "source": [
        "df = read_csv(\"https://raw.githubusercontent.com/wooihaw/datasets/main/steel_faults.csv\")"
      ]
    },
    {
      "cell_type": "code",
      "execution_count": null,
      "id": "443f12fc-40a4-453b-aa2e-0eb21cb479b5",
      "metadata": {
        "id": "443f12fc-40a4-453b-aa2e-0eb21cb479b5"
      },
      "outputs": [],
      "source": []
    }
  ],
  "metadata": {
    "kernelspec": {
      "display_name": "Python 3",
      "language": "python",
      "name": "python3"
    },
    "language_info": {
      "codemirror_mode": {
        "name": "ipython",
        "version": 3
      },
      "file_extension": ".py",
      "mimetype": "text/x-python",
      "name": "python",
      "nbconvert_exporter": "python",
      "pygments_lexer": "ipython3",
      "version": "3.8.10"
    },
    "colab": {
      "provenance": [],
      "include_colab_link": true
    }
  },
  "nbformat": 4,
  "nbformat_minor": 5
}