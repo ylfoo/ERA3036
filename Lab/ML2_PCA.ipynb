{
  "cells": [
    {
      "cell_type": "markdown",
      "metadata": {
        "id": "view-in-github",
        "colab_type": "text"
      },
      "source": [
        "<a href=\"https://colab.research.google.com/github/ylfoo/ERA3036/blob/main/Lab/ML2_PCA.ipynb\" target=\"_parent\"><img src=\"https://colab.research.google.com/assets/colab-badge.svg\" alt=\"Open In Colab\"/></a>"
      ]
    },
    {
      "cell_type": "code",
      "execution_count": null,
      "id": "9181c596-8613-4776-ad12-2eac5d4b75ce",
      "metadata": {
        "tags": [],
        "id": "9181c596-8613-4776-ad12-2eac5d4b75ce"
      },
      "outputs": [],
      "source": [
        "# Initialization\n",
        "%matplotlib inline\n",
        "from warnings import filterwarnings\n",
        "filterwarnings('ignore')"
      ]
    },
    {
      "cell_type": "code",
      "execution_count": null,
      "id": "3fbea833-00f6-44a4-9d1d-3ac086589195",
      "metadata": {
        "tags": [],
        "id": "3fbea833-00f6-44a4-9d1d-3ac086589195"
      },
      "outputs": [],
      "source": [
        "from pandas import read_csv\n",
        "from sklearn.linear_model import LogisticRegression\n",
        "from sklearn.neighbors import KNeighborsClassifier\n",
        "from sklearn.naive_bayes import GaussianNB\n",
        "from sklearn.svm import SVC\n",
        "from sklearn.tree import DecisionTreeClassifier\n",
        "from sklearn.ensemble import RandomForestClassifier, GradientBoostingClassifier\n",
        "from sklearn.neural_network import MLPClassifier\n",
        "from sklearn.model_selection import KFold, cross_val_score\n",
        "from sklearn.decomposition import PCA\n",
        "from sklearn.preprocessing import StandardScaler"
      ]
    },
    {
      "cell_type": "code",
      "execution_count": null,
      "id": "793e4fd7-e637-4abb-bcde-885f07688038",
      "metadata": {
        "tags": [],
        "id": "793e4fd7-e637-4abb-bcde-885f07688038",
        "outputId": "b374689e-a1fa-4740-c412-63040ab59df9"
      },
      "outputs": [
        {
          "data": {
            "text/html": [
              "<div>\n",
              "<style scoped>\n",
              "    .dataframe tbody tr th:only-of-type {\n",
              "        vertical-align: middle;\n",
              "    }\n",
              "\n",
              "    .dataframe tbody tr th {\n",
              "        vertical-align: top;\n",
              "    }\n",
              "\n",
              "    .dataframe thead th {\n",
              "        text-align: right;\n",
              "    }\n",
              "</style>\n",
              "<table border=\"1\" class=\"dataframe\">\n",
              "  <thead>\n",
              "    <tr style=\"text-align: right;\">\n",
              "      <th></th>\n",
              "      <th>X_Minimum</th>\n",
              "      <th>X_Maximum</th>\n",
              "      <th>Y_Minimum</th>\n",
              "      <th>Y_Maximum</th>\n",
              "      <th>Pixels_Areas</th>\n",
              "      <th>X_Perimeter</th>\n",
              "      <th>Y_Perimeter</th>\n",
              "      <th>Sum_of_Luminosity</th>\n",
              "      <th>Minimum_of_Luminosity</th>\n",
              "      <th>Maximum_of_Luminosity</th>\n",
              "      <th>...</th>\n",
              "      <th>Edges_X_Index</th>\n",
              "      <th>Edges_Y_Index</th>\n",
              "      <th>Outside_Global_Index</th>\n",
              "      <th>LogOfAreas</th>\n",
              "      <th>Log_X_Index</th>\n",
              "      <th>Log_Y_Index</th>\n",
              "      <th>Orientation_Index</th>\n",
              "      <th>Luminosity_Index</th>\n",
              "      <th>SigmoidOfAreas</th>\n",
              "      <th>Fault</th>\n",
              "    </tr>\n",
              "  </thead>\n",
              "  <tbody>\n",
              "    <tr>\n",
              "      <th>0</th>\n",
              "      <td>42</td>\n",
              "      <td>50</td>\n",
              "      <td>270900</td>\n",
              "      <td>270944</td>\n",
              "      <td>267</td>\n",
              "      <td>17</td>\n",
              "      <td>44</td>\n",
              "      <td>24220</td>\n",
              "      <td>76</td>\n",
              "      <td>108</td>\n",
              "      <td>...</td>\n",
              "      <td>0.4706</td>\n",
              "      <td>1.0000</td>\n",
              "      <td>1.0</td>\n",
              "      <td>2.4265</td>\n",
              "      <td>0.9031</td>\n",
              "      <td>1.6435</td>\n",
              "      <td>0.8182</td>\n",
              "      <td>-0.2913</td>\n",
              "      <td>0.5822</td>\n",
              "      <td>Pastry</td>\n",
              "    </tr>\n",
              "    <tr>\n",
              "      <th>1</th>\n",
              "      <td>645</td>\n",
              "      <td>651</td>\n",
              "      <td>2538079</td>\n",
              "      <td>2538108</td>\n",
              "      <td>108</td>\n",
              "      <td>10</td>\n",
              "      <td>30</td>\n",
              "      <td>11397</td>\n",
              "      <td>84</td>\n",
              "      <td>123</td>\n",
              "      <td>...</td>\n",
              "      <td>0.6000</td>\n",
              "      <td>0.9667</td>\n",
              "      <td>1.0</td>\n",
              "      <td>2.0334</td>\n",
              "      <td>0.7782</td>\n",
              "      <td>1.4624</td>\n",
              "      <td>0.7931</td>\n",
              "      <td>-0.1756</td>\n",
              "      <td>0.2984</td>\n",
              "      <td>Pastry</td>\n",
              "    </tr>\n",
              "    <tr>\n",
              "      <th>2</th>\n",
              "      <td>829</td>\n",
              "      <td>835</td>\n",
              "      <td>1553913</td>\n",
              "      <td>1553931</td>\n",
              "      <td>71</td>\n",
              "      <td>8</td>\n",
              "      <td>19</td>\n",
              "      <td>7972</td>\n",
              "      <td>99</td>\n",
              "      <td>125</td>\n",
              "      <td>...</td>\n",
              "      <td>0.7500</td>\n",
              "      <td>0.9474</td>\n",
              "      <td>1.0</td>\n",
              "      <td>1.8513</td>\n",
              "      <td>0.7782</td>\n",
              "      <td>1.2553</td>\n",
              "      <td>0.6667</td>\n",
              "      <td>-0.1228</td>\n",
              "      <td>0.2150</td>\n",
              "      <td>Pastry</td>\n",
              "    </tr>\n",
              "    <tr>\n",
              "      <th>3</th>\n",
              "      <td>853</td>\n",
              "      <td>860</td>\n",
              "      <td>369370</td>\n",
              "      <td>369415</td>\n",
              "      <td>176</td>\n",
              "      <td>13</td>\n",
              "      <td>45</td>\n",
              "      <td>18996</td>\n",
              "      <td>99</td>\n",
              "      <td>126</td>\n",
              "      <td>...</td>\n",
              "      <td>0.5385</td>\n",
              "      <td>1.0000</td>\n",
              "      <td>1.0</td>\n",
              "      <td>2.2455</td>\n",
              "      <td>0.8451</td>\n",
              "      <td>1.6532</td>\n",
              "      <td>0.8444</td>\n",
              "      <td>-0.1568</td>\n",
              "      <td>0.5212</td>\n",
              "      <td>Pastry</td>\n",
              "    </tr>\n",
              "    <tr>\n",
              "      <th>4</th>\n",
              "      <td>1289</td>\n",
              "      <td>1306</td>\n",
              "      <td>498078</td>\n",
              "      <td>498335</td>\n",
              "      <td>2409</td>\n",
              "      <td>60</td>\n",
              "      <td>260</td>\n",
              "      <td>246930</td>\n",
              "      <td>37</td>\n",
              "      <td>126</td>\n",
              "      <td>...</td>\n",
              "      <td>0.2833</td>\n",
              "      <td>0.9885</td>\n",
              "      <td>1.0</td>\n",
              "      <td>3.3818</td>\n",
              "      <td>1.2305</td>\n",
              "      <td>2.4099</td>\n",
              "      <td>0.9338</td>\n",
              "      <td>-0.1992</td>\n",
              "      <td>1.0000</td>\n",
              "      <td>Pastry</td>\n",
              "    </tr>\n",
              "  </tbody>\n",
              "</table>\n",
              "<p>5 rows × 28 columns</p>\n",
              "</div>"
            ],
            "text/plain": [
              "   X_Minimum  X_Maximum  Y_Minimum  Y_Maximum  Pixels_Areas  X_Perimeter  \\\n",
              "0         42         50     270900     270944           267           17   \n",
              "1        645        651    2538079    2538108           108           10   \n",
              "2        829        835    1553913    1553931            71            8   \n",
              "3        853        860     369370     369415           176           13   \n",
              "4       1289       1306     498078     498335          2409           60   \n",
              "\n",
              "   Y_Perimeter  Sum_of_Luminosity  Minimum_of_Luminosity  \\\n",
              "0           44              24220                     76   \n",
              "1           30              11397                     84   \n",
              "2           19               7972                     99   \n",
              "3           45              18996                     99   \n",
              "4          260             246930                     37   \n",
              "\n",
              "   Maximum_of_Luminosity  ...  Edges_X_Index  Edges_Y_Index  \\\n",
              "0                    108  ...         0.4706         1.0000   \n",
              "1                    123  ...         0.6000         0.9667   \n",
              "2                    125  ...         0.7500         0.9474   \n",
              "3                    126  ...         0.5385         1.0000   \n",
              "4                    126  ...         0.2833         0.9885   \n",
              "\n",
              "   Outside_Global_Index  LogOfAreas  Log_X_Index  Log_Y_Index  \\\n",
              "0                   1.0      2.4265       0.9031       1.6435   \n",
              "1                   1.0      2.0334       0.7782       1.4624   \n",
              "2                   1.0      1.8513       0.7782       1.2553   \n",
              "3                   1.0      2.2455       0.8451       1.6532   \n",
              "4                   1.0      3.3818       1.2305       2.4099   \n",
              "\n",
              "   Orientation_Index  Luminosity_Index  SigmoidOfAreas   Fault  \n",
              "0             0.8182           -0.2913          0.5822  Pastry  \n",
              "1             0.7931           -0.1756          0.2984  Pastry  \n",
              "2             0.6667           -0.1228          0.2150  Pastry  \n",
              "3             0.8444           -0.1568          0.5212  Pastry  \n",
              "4             0.9338           -0.1992          1.0000  Pastry  \n",
              "\n",
              "[5 rows x 28 columns]"
            ]
          },
          "execution_count": 3,
          "metadata": {},
          "output_type": "execute_result"
        }
      ],
      "source": [
        "df = read_csv(\"https://raw.githubusercontent.com/wooihaw/datasets/main/steel_faults.csv\")\n",
        "df.head()"
      ]
    },
    {
      "cell_type": "code",
      "execution_count": null,
      "id": "4e2ee597-581b-42cc-b291-ec5f540a40fa",
      "metadata": {
        "tags": [],
        "id": "4e2ee597-581b-42cc-b291-ec5f540a40fa"
      },
      "outputs": [],
      "source": [
        "X = df.drop(columns=[\"Fault\"])\n",
        "y = df[\"Fault\"]\n",
        "\n",
        "scl = StandardScaler()\n",
        "Xs = scl.fit_transform(X)"
      ]
    },
    {
      "cell_type": "code",
      "execution_count": null,
      "id": "5098463b-bbbd-479d-b261-3a4e7d7a85f7",
      "metadata": {
        "tags": [],
        "id": "5098463b-bbbd-479d-b261-3a4e7d7a85f7",
        "outputId": "558e3d2c-86e8-409f-8120-936d13d6b17e"
      },
      "outputs": [
        {
          "name": "stdout",
          "output_type": "stream",
          "text": [
            "lgr: 71.302%, 3.089%\n",
            "knn: 73.983%, 2.111%\n",
            "gnb: 60.174%, 2.389%\n",
            "svc: 75.116%, 2.286%\n",
            "dtc: 71.096%, 1.950%\n",
            "rfc: 77.332%, 2.891%\n",
            "gbc: 79.341%, 3.036%\n",
            "mlp: 75.425%, 2.144%\n"
          ]
        }
      ],
      "source": [
        "models = {}\n",
        "models['lgr'] = LogisticRegression()\n",
        "models['knn'] = KNeighborsClassifier()\n",
        "models['gnb'] = GaussianNB()\n",
        "models['svc'] = SVC()\n",
        "models['dtc'] = DecisionTreeClassifier()\n",
        "models['rfc'] = RandomForestClassifier()\n",
        "models['gbc'] = GradientBoostingClassifier()\n",
        "models['mlp'] = MLPClassifier()\n",
        "\n",
        "kf = KFold(n_splits=5, shuffle=True, random_state=42)\n",
        "for m in models:\n",
        "    scores = cross_val_score(models[m], Xs, y, cv=kf, n_jobs=-1)\n",
        "    print(f\"{m}: {scores.mean():.3%}, {scores.std():.3%}\")"
      ]
    },
    {
      "cell_type": "code",
      "execution_count": null,
      "id": "6db30eea-50e4-40e2-aac3-6e3b028d7aa6",
      "metadata": {
        "tags": [],
        "id": "6db30eea-50e4-40e2-aac3-6e3b028d7aa6"
      },
      "outputs": [],
      "source": [
        "pca = PCA(n_components=13)\n",
        "Xr = pca.fit_transform(Xs)"
      ]
    },
    {
      "cell_type": "code",
      "execution_count": null,
      "id": "c3857788-d4f0-4409-8aa6-5058940d97ae",
      "metadata": {
        "tags": [],
        "id": "c3857788-d4f0-4409-8aa6-5058940d97ae",
        "outputId": "657411e6-fe39-485b-88c1-58cc15fb2c0e"
      },
      "outputs": [
        {
          "name": "stdout",
          "output_type": "stream",
          "text": [
            "lgr: 70.632%, 3.342%\n",
            "knn: 73.725%, 1.527%\n",
            "gnb: 68.315%, 1.798%\n",
            "svc: 74.807%, 1.764%\n",
            "dtc: 64.917%, 2.395%\n",
            "rfc: 74.652%, 1.425%\n",
            "gbc: 72.591%, 3.525%\n",
            "mlp: 75.631%, 1.409%\n"
          ]
        }
      ],
      "source": [
        "for m in models:\n",
        "    scores = cross_val_score(models[m], Xr, y, cv=kf, n_jobs=-1)\n",
        "    print(f\"{m}: {scores.mean():.3%}, {scores.std():.3%}\")"
      ]
    },
    {
      "cell_type": "code",
      "execution_count": null,
      "id": "443f12fc-40a4-453b-aa2e-0eb21cb479b5",
      "metadata": {
        "id": "443f12fc-40a4-453b-aa2e-0eb21cb479b5"
      },
      "outputs": [],
      "source": []
    }
  ],
  "metadata": {
    "kernelspec": {
      "display_name": "Python 3 (ipykernel)",
      "language": "python",
      "name": "python3"
    },
    "language_info": {
      "codemirror_mode": {
        "name": "ipython",
        "version": 3
      },
      "file_extension": ".py",
      "mimetype": "text/x-python",
      "name": "python",
      "nbconvert_exporter": "python",
      "pygments_lexer": "ipython3",
      "version": "3.9.13"
    },
    "colab": {
      "provenance": [],
      "include_colab_link": true
    }
  },
  "nbformat": 4,
  "nbformat_minor": 5
}