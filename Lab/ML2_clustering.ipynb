{
  "cells": [
    {
      "cell_type": "markdown",
      "metadata": {
        "id": "view-in-github",
        "colab_type": "text"
      },
      "source": [
        "<a href=\"https://colab.research.google.com/github/ylfoo/ERA3036/blob/main/Lab/ML2_clustering.ipynb\" target=\"_parent\"><img src=\"https://colab.research.google.com/assets/colab-badge.svg\" alt=\"Open In Colab\"/></a>"
      ]
    },
    {
      "cell_type": "markdown",
      "id": "bf085b9e-23b0-4d14-ba23-ba0c2b961226",
      "metadata": {
        "id": "bf085b9e-23b0-4d14-ba23-ba0c2b961226"
      },
      "source": [
        "## ERA3036 Lab ML2\n",
        "#### Exercise 2.1"
      ]
    },
    {
      "cell_type": "markdown",
      "id": "5af54df6-80dd-4840-ab4b-01ecef4ec817",
      "metadata": {
        "id": "5af54df6-80dd-4840-ab4b-01ecef4ec817"
      },
      "source": [
        "Name:  \n",
        "Student ID:  \n",
        "Date of Experiment:"
      ]
    },
    {
      "cell_type": "code",
      "execution_count": null,
      "id": "0b381cc1-893c-46fd-8108-3b8f0a60518f",
      "metadata": {
        "tags": [],
        "id": "0b381cc1-893c-46fd-8108-3b8f0a60518f"
      },
      "outputs": [],
      "source": [
        "# Initialization\n",
        "%matplotlib inline\n",
        "from warnings import filterwarnings\n",
        "filterwarnings('ignore')"
      ]
    },
    {
      "cell_type": "code",
      "execution_count": null,
      "id": "4cd622e3-68e7-459d-bc47-6d9685307a55",
      "metadata": {
        "tags": [],
        "id": "4cd622e3-68e7-459d-bc47-6d9685307a55"
      },
      "outputs": [],
      "source": [
        "# Load libraries\n",
        "from pandas import read_csv\n",
        "from sklearn.cluster import KMeans\n",
        "from sklearn.linear_model import LogisticRegression\n",
        "from sklearn.model_selection import KFold, cross_val_score\n",
        "from sklearn.metrics import silhouette_score\n",
        "from sklearn.preprocessing import StandardScaler"
      ]
    },
    {
      "cell_type": "code",
      "execution_count": null,
      "id": "f4dc9f24-5422-474c-81d9-54efe44ea55c",
      "metadata": {
        "tags": [],
        "id": "f4dc9f24-5422-474c-81d9-54efe44ea55c"
      },
      "outputs": [],
      "source": [
        "df = read_csv(\"https://raw.githubusercontent.com/wooihaw/datasets/main/shopping_data.csv\")"
      ]
    },
    {
      "cell_type": "code",
      "execution_count": null,
      "id": "2044c5cb-1c3f-47db-8684-4a981bdee6e0",
      "metadata": {
        "id": "2044c5cb-1c3f-47db-8684-4a981bdee6e0"
      },
      "outputs": [],
      "source": []
    }
  ],
  "metadata": {
    "kernelspec": {
      "display_name": "Python 3",
      "language": "python",
      "name": "python3"
    },
    "language_info": {
      "codemirror_mode": {
        "name": "ipython",
        "version": 3
      },
      "file_extension": ".py",
      "mimetype": "text/x-python",
      "name": "python",
      "nbconvert_exporter": "python",
      "pygments_lexer": "ipython3",
      "version": "3.8.10"
    },
    "colab": {
      "provenance": [],
      "include_colab_link": true
    }
  },
  "nbformat": 4,
  "nbformat_minor": 5
}