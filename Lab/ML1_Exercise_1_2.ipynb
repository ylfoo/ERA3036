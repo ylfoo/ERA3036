{
  "cells": [
    {
      "cell_type": "markdown",
      "metadata": {
        "id": "view-in-github",
        "colab_type": "text"
      },
      "source": [
        "<a href=\"https://colab.research.google.com/github/ylfoo/ERA3036/blob/main/Lab/ML1_Exercise_1_2.ipynb\" target=\"_parent\"><img src=\"https://colab.research.google.com/assets/colab-badge.svg\" alt=\"Open In Colab\"/></a>"
      ]
    },
    {
      "cell_type": "markdown",
      "id": "d828d969-d024-4f4f-a8aa-c46d4a8ff129",
      "metadata": {
        "id": "d828d969-d024-4f4f-a8aa-c46d4a8ff129"
      },
      "source": [
        "## ERA3036 Lab ML1\n",
        "### Exercise 1.2"
      ]
    },
    {
      "cell_type": "markdown",
      "id": "519dcc99-276e-431d-abd2-5a3cd814f67c",
      "metadata": {
        "id": "519dcc99-276e-431d-abd2-5a3cd814f67c"
      },
      "source": [
        "Name:  \n",
        "Student ID:  \n",
        "Date of experiment:  "
      ]
    },
    {
      "cell_type": "code",
      "execution_count": null,
      "id": "d6e70b5f-0d0a-4ebe-add7-1538bc6e1ae5",
      "metadata": {
        "tags": [],
        "id": "d6e70b5f-0d0a-4ebe-add7-1538bc6e1ae5"
      },
      "outputs": [],
      "source": [
        "from pandas import read_csv\n",
        "from sklearn.linear_model import LogisticRegression\n",
        "from sklearn.neighbors import KNeighborsClassifier\n",
        "from sklearn.naive_bayes import GaussianNB\n",
        "from sklearn.svm import SVC\n",
        "from sklearn.tree import DecisionTreeClassifier\n",
        "from sklearn.ensemble import RandomForestClassifier, GradientBoostingClassifier\n",
        "from sklearn.neural_network import MLPClassifier\n",
        "from sklearn.model_selection import KFold, cross_val_score"
      ]
    },
    {
      "cell_type": "code",
      "execution_count": null,
      "id": "b7280e5c-135b-46b3-ba37-c46391bd7f8e",
      "metadata": {
        "tags": [],
        "id": "b7280e5c-135b-46b3-ba37-c46391bd7f8e",
        "outputId": "4803a385-0c24-4425-ca72-e67de95ed1b6",
        "colab": {
          "base_uri": "https://localhost:8080/",
          "height": 206
        }
      },
      "outputs": [
        {
          "output_type": "execute_result",
          "data": {
            "text/plain": [
              "   bedroom  foyer  kitchen  living  soho location\n",
              "0      -59    -90      -76     -67   -80  bedroom\n",
              "1      -59    -95      -79     -77   -70  bedroom\n",
              "2      -52    -81      -86     -90   -76  bedroom\n",
              "3      -66    -83      -81     -69   -70  bedroom\n",
              "4      -71    -91      -90     -77   -71  bedroom"
            ],
            "text/html": [
              "\n",
              "  <div id=\"df-dffef293-a9e1-4677-8f2b-a80cb4ccc700\" class=\"colab-df-container\">\n",
              "    <div>\n",
              "<style scoped>\n",
              "    .dataframe tbody tr th:only-of-type {\n",
              "        vertical-align: middle;\n",
              "    }\n",
              "\n",
              "    .dataframe tbody tr th {\n",
              "        vertical-align: top;\n",
              "    }\n",
              "\n",
              "    .dataframe thead th {\n",
              "        text-align: right;\n",
              "    }\n",
              "</style>\n",
              "<table border=\"1\" class=\"dataframe\">\n",
              "  <thead>\n",
              "    <tr style=\"text-align: right;\">\n",
              "      <th></th>\n",
              "      <th>bedroom</th>\n",
              "      <th>foyer</th>\n",
              "      <th>kitchen</th>\n",
              "      <th>living</th>\n",
              "      <th>soho</th>\n",
              "      <th>location</th>\n",
              "    </tr>\n",
              "  </thead>\n",
              "  <tbody>\n",
              "    <tr>\n",
              "      <th>0</th>\n",
              "      <td>-59</td>\n",
              "      <td>-90</td>\n",
              "      <td>-76</td>\n",
              "      <td>-67</td>\n",
              "      <td>-80</td>\n",
              "      <td>bedroom</td>\n",
              "    </tr>\n",
              "    <tr>\n",
              "      <th>1</th>\n",
              "      <td>-59</td>\n",
              "      <td>-95</td>\n",
              "      <td>-79</td>\n",
              "      <td>-77</td>\n",
              "      <td>-70</td>\n",
              "      <td>bedroom</td>\n",
              "    </tr>\n",
              "    <tr>\n",
              "      <th>2</th>\n",
              "      <td>-52</td>\n",
              "      <td>-81</td>\n",
              "      <td>-86</td>\n",
              "      <td>-90</td>\n",
              "      <td>-76</td>\n",
              "      <td>bedroom</td>\n",
              "    </tr>\n",
              "    <tr>\n",
              "      <th>3</th>\n",
              "      <td>-66</td>\n",
              "      <td>-83</td>\n",
              "      <td>-81</td>\n",
              "      <td>-69</td>\n",
              "      <td>-70</td>\n",
              "      <td>bedroom</td>\n",
              "    </tr>\n",
              "    <tr>\n",
              "      <th>4</th>\n",
              "      <td>-71</td>\n",
              "      <td>-91</td>\n",
              "      <td>-90</td>\n",
              "      <td>-77</td>\n",
              "      <td>-71</td>\n",
              "      <td>bedroom</td>\n",
              "    </tr>\n",
              "  </tbody>\n",
              "</table>\n",
              "</div>\n",
              "    <div class=\"colab-df-buttons\">\n",
              "\n",
              "  <div class=\"colab-df-container\">\n",
              "    <button class=\"colab-df-convert\" onclick=\"convertToInteractive('df-dffef293-a9e1-4677-8f2b-a80cb4ccc700')\"\n",
              "            title=\"Convert this dataframe to an interactive table.\"\n",
              "            style=\"display:none;\">\n",
              "\n",
              "  <svg xmlns=\"http://www.w3.org/2000/svg\" height=\"24px\" viewBox=\"0 -960 960 960\">\n",
              "    <path d=\"M120-120v-720h720v720H120Zm60-500h600v-160H180v160Zm220 220h160v-160H400v160Zm0 220h160v-160H400v160ZM180-400h160v-160H180v160Zm440 0h160v-160H620v160ZM180-180h160v-160H180v160Zm440 0h160v-160H620v160Z\"/>\n",
              "  </svg>\n",
              "    </button>\n",
              "\n",
              "  <style>\n",
              "    .colab-df-container {\n",
              "      display:flex;\n",
              "      gap: 12px;\n",
              "    }\n",
              "\n",
              "    .colab-df-convert {\n",
              "      background-color: #E8F0FE;\n",
              "      border: none;\n",
              "      border-radius: 50%;\n",
              "      cursor: pointer;\n",
              "      display: none;\n",
              "      fill: #1967D2;\n",
              "      height: 32px;\n",
              "      padding: 0 0 0 0;\n",
              "      width: 32px;\n",
              "    }\n",
              "\n",
              "    .colab-df-convert:hover {\n",
              "      background-color: #E2EBFA;\n",
              "      box-shadow: 0px 1px 2px rgba(60, 64, 67, 0.3), 0px 1px 3px 1px rgba(60, 64, 67, 0.15);\n",
              "      fill: #174EA6;\n",
              "    }\n",
              "\n",
              "    .colab-df-buttons div {\n",
              "      margin-bottom: 4px;\n",
              "    }\n",
              "\n",
              "    [theme=dark] .colab-df-convert {\n",
              "      background-color: #3B4455;\n",
              "      fill: #D2E3FC;\n",
              "    }\n",
              "\n",
              "    [theme=dark] .colab-df-convert:hover {\n",
              "      background-color: #434B5C;\n",
              "      box-shadow: 0px 1px 3px 1px rgba(0, 0, 0, 0.15);\n",
              "      filter: drop-shadow(0px 1px 2px rgba(0, 0, 0, 0.3));\n",
              "      fill: #FFFFFF;\n",
              "    }\n",
              "  </style>\n",
              "\n",
              "    <script>\n",
              "      const buttonEl =\n",
              "        document.querySelector('#df-dffef293-a9e1-4677-8f2b-a80cb4ccc700 button.colab-df-convert');\n",
              "      buttonEl.style.display =\n",
              "        google.colab.kernel.accessAllowed ? 'block' : 'none';\n",
              "\n",
              "      async function convertToInteractive(key) {\n",
              "        const element = document.querySelector('#df-dffef293-a9e1-4677-8f2b-a80cb4ccc700');\n",
              "        const dataTable =\n",
              "          await google.colab.kernel.invokeFunction('convertToInteractive',\n",
              "                                                    [key], {});\n",
              "        if (!dataTable) return;\n",
              "\n",
              "        const docLinkHtml = 'Like what you see? Visit the ' +\n",
              "          '<a target=\"_blank\" href=https://colab.research.google.com/notebooks/data_table.ipynb>data table notebook</a>'\n",
              "          + ' to learn more about interactive tables.';\n",
              "        element.innerHTML = '';\n",
              "        dataTable['output_type'] = 'display_data';\n",
              "        await google.colab.output.renderOutput(dataTable, element);\n",
              "        const docLink = document.createElement('div');\n",
              "        docLink.innerHTML = docLinkHtml;\n",
              "        element.appendChild(docLink);\n",
              "      }\n",
              "    </script>\n",
              "  </div>\n",
              "\n",
              "\n",
              "<div id=\"df-268b8a62-6ce3-4214-9a42-29fc67b9e6f0\">\n",
              "  <button class=\"colab-df-quickchart\" onclick=\"quickchart('df-268b8a62-6ce3-4214-9a42-29fc67b9e6f0')\"\n",
              "            title=\"Suggest charts\"\n",
              "            style=\"display:none;\">\n",
              "\n",
              "<svg xmlns=\"http://www.w3.org/2000/svg\" height=\"24px\"viewBox=\"0 0 24 24\"\n",
              "     width=\"24px\">\n",
              "    <g>\n",
              "        <path d=\"M19 3H5c-1.1 0-2 .9-2 2v14c0 1.1.9 2 2 2h14c1.1 0 2-.9 2-2V5c0-1.1-.9-2-2-2zM9 17H7v-7h2v7zm4 0h-2V7h2v10zm4 0h-2v-4h2v4z\"/>\n",
              "    </g>\n",
              "</svg>\n",
              "  </button>\n",
              "\n",
              "<style>\n",
              "  .colab-df-quickchart {\n",
              "      --bg-color: #E8F0FE;\n",
              "      --fill-color: #1967D2;\n",
              "      --hover-bg-color: #E2EBFA;\n",
              "      --hover-fill-color: #174EA6;\n",
              "      --disabled-fill-color: #AAA;\n",
              "      --disabled-bg-color: #DDD;\n",
              "  }\n",
              "\n",
              "  [theme=dark] .colab-df-quickchart {\n",
              "      --bg-color: #3B4455;\n",
              "      --fill-color: #D2E3FC;\n",
              "      --hover-bg-color: #434B5C;\n",
              "      --hover-fill-color: #FFFFFF;\n",
              "      --disabled-bg-color: #3B4455;\n",
              "      --disabled-fill-color: #666;\n",
              "  }\n",
              "\n",
              "  .colab-df-quickchart {\n",
              "    background-color: var(--bg-color);\n",
              "    border: none;\n",
              "    border-radius: 50%;\n",
              "    cursor: pointer;\n",
              "    display: none;\n",
              "    fill: var(--fill-color);\n",
              "    height: 32px;\n",
              "    padding: 0;\n",
              "    width: 32px;\n",
              "  }\n",
              "\n",
              "  .colab-df-quickchart:hover {\n",
              "    background-color: var(--hover-bg-color);\n",
              "    box-shadow: 0 1px 2px rgba(60, 64, 67, 0.3), 0 1px 3px 1px rgba(60, 64, 67, 0.15);\n",
              "    fill: var(--button-hover-fill-color);\n",
              "  }\n",
              "\n",
              "  .colab-df-quickchart-complete:disabled,\n",
              "  .colab-df-quickchart-complete:disabled:hover {\n",
              "    background-color: var(--disabled-bg-color);\n",
              "    fill: var(--disabled-fill-color);\n",
              "    box-shadow: none;\n",
              "  }\n",
              "\n",
              "  .colab-df-spinner {\n",
              "    border: 2px solid var(--fill-color);\n",
              "    border-color: transparent;\n",
              "    border-bottom-color: var(--fill-color);\n",
              "    animation:\n",
              "      spin 1s steps(1) infinite;\n",
              "  }\n",
              "\n",
              "  @keyframes spin {\n",
              "    0% {\n",
              "      border-color: transparent;\n",
              "      border-bottom-color: var(--fill-color);\n",
              "      border-left-color: var(--fill-color);\n",
              "    }\n",
              "    20% {\n",
              "      border-color: transparent;\n",
              "      border-left-color: var(--fill-color);\n",
              "      border-top-color: var(--fill-color);\n",
              "    }\n",
              "    30% {\n",
              "      border-color: transparent;\n",
              "      border-left-color: var(--fill-color);\n",
              "      border-top-color: var(--fill-color);\n",
              "      border-right-color: var(--fill-color);\n",
              "    }\n",
              "    40% {\n",
              "      border-color: transparent;\n",
              "      border-right-color: var(--fill-color);\n",
              "      border-top-color: var(--fill-color);\n",
              "    }\n",
              "    60% {\n",
              "      border-color: transparent;\n",
              "      border-right-color: var(--fill-color);\n",
              "    }\n",
              "    80% {\n",
              "      border-color: transparent;\n",
              "      border-right-color: var(--fill-color);\n",
              "      border-bottom-color: var(--fill-color);\n",
              "    }\n",
              "    90% {\n",
              "      border-color: transparent;\n",
              "      border-bottom-color: var(--fill-color);\n",
              "    }\n",
              "  }\n",
              "</style>\n",
              "\n",
              "  <script>\n",
              "    async function quickchart(key) {\n",
              "      const quickchartButtonEl =\n",
              "        document.querySelector('#' + key + ' button');\n",
              "      quickchartButtonEl.disabled = true;  // To prevent multiple clicks.\n",
              "      quickchartButtonEl.classList.add('colab-df-spinner');\n",
              "      try {\n",
              "        const charts = await google.colab.kernel.invokeFunction(\n",
              "            'suggestCharts', [key], {});\n",
              "      } catch (error) {\n",
              "        console.error('Error during call to suggestCharts:', error);\n",
              "      }\n",
              "      quickchartButtonEl.classList.remove('colab-df-spinner');\n",
              "      quickchartButtonEl.classList.add('colab-df-quickchart-complete');\n",
              "    }\n",
              "    (() => {\n",
              "      let quickchartButtonEl =\n",
              "        document.querySelector('#df-268b8a62-6ce3-4214-9a42-29fc67b9e6f0 button');\n",
              "      quickchartButtonEl.style.display =\n",
              "        google.colab.kernel.accessAllowed ? 'block' : 'none';\n",
              "    })();\n",
              "  </script>\n",
              "</div>\n",
              "\n",
              "    </div>\n",
              "  </div>\n"
            ]
          },
          "metadata": {},
          "execution_count": 2
        }
      ],
      "source": [
        "# Load dataset and preview first 5 rows\n",
        "df = read_csv(\"https://raw.githubusercontent.com/wooihaw/datasets/main/ips_basic.csv\")\n",
        "df.head()"
      ]
    },
    {
      "cell_type": "code",
      "execution_count": null,
      "id": "895c9053-e115-4077-bbd2-54b8254c6af5",
      "metadata": {
        "tags": [],
        "id": "895c9053-e115-4077-bbd2-54b8254c6af5",
        "outputId": "66f274f1-3813-46a0-cbd9-c978547f6c72",
        "colab": {
          "base_uri": "https://localhost:8080/"
        }
      },
      "outputs": [
        {
          "output_type": "stream",
          "name": "stdout",
          "text": [
            "<class 'pandas.core.frame.DataFrame'>\n",
            "RangeIndex: 629 entries, 0 to 628\n",
            "Data columns (total 6 columns):\n",
            " #   Column    Non-Null Count  Dtype \n",
            "---  ------    --------------  ----- \n",
            " 0   bedroom   629 non-null    int64 \n",
            " 1   foyer     629 non-null    int64 \n",
            " 2   kitchen   629 non-null    int64 \n",
            " 3   living    629 non-null    int64 \n",
            " 4   soho      629 non-null    int64 \n",
            " 5   location  629 non-null    object\n",
            "dtypes: int64(5), object(1)\n",
            "memory usage: 29.6+ KB\n"
          ]
        }
      ],
      "source": [
        "# Check the datatype and number of non-null (valid) data in each column\n",
        "df.info()"
      ]
    },
    {
      "cell_type": "code",
      "execution_count": null,
      "id": "4de42d2c-da55-4cc5-a88c-d63af8ccf6c4",
      "metadata": {
        "tags": [],
        "id": "4de42d2c-da55-4cc5-a88c-d63af8ccf6c4",
        "outputId": "0f446b10-a5de-4302-bb60-1d85370136af",
        "colab": {
          "base_uri": "https://localhost:8080/"
        }
      },
      "outputs": [
        {
          "output_type": "execute_result",
          "data": {
            "text/plain": [
              "bedroom     0\n",
              "foyer       0\n",
              "kitchen     0\n",
              "living      0\n",
              "soho        0\n",
              "location    0\n",
              "dtype: int64"
            ]
          },
          "metadata": {},
          "execution_count": 4
        }
      ],
      "source": [
        "# Check the number of missing data in each column\n",
        "df.isna().sum()"
      ]
    },
    {
      "cell_type": "code",
      "execution_count": null,
      "id": "4c817f90-1f78-4fc1-b07a-ae712d9d58ca",
      "metadata": {
        "tags": [],
        "id": "4c817f90-1f78-4fc1-b07a-ae712d9d58ca"
      },
      "outputs": [],
      "source": [
        "# Separate into features (X) and targets (y)\n",
        "X = df.drop(columns=[\"location\"])\n",
        "y = df[\"location\"]"
      ]
    },
    {
      "cell_type": "code",
      "source": [
        "# Use spotchecking to quickly evaluate the performance of different algorithms on the dataset\n",
        "models = {}\n",
        "models['lgr'] = LogisticRegression()\n",
        "models['knn'] = KNeighborsClassifier()\n",
        "models['gnb'] = GaussianNB()\n",
        "models['svc'] = SVC()\n",
        "models['dtc'] = DecisionTreeClassifier()\n",
        "models['rfc'] = RandomForestClassifier()\n",
        "models['gbc'] = GradientBoostingClassifier()\n",
        "models['mlp'] = MLPClassifier()\n",
        "\n",
        "# Evaluate using 3-fold cross validation\n",
        "kf = KFold(n_splits=3, shuffle=True, random_state=42)\n",
        "for m in models:\n",
        "  scores = cross_val_score(models[m], X, y, cv=kf, n_jobs=-1)\n",
        "  print(f\"{m}: {scores.mean():.3%}, {scores.std():.3%}\")"
      ],
      "metadata": {
        "id": "hpfc8-VJff1p",
        "outputId": "a06b19d8-cf59-48e3-df83-4ba52a708f91",
        "colab": {
          "base_uri": "https://localhost:8080/"
        }
      },
      "id": "hpfc8-VJff1p",
      "execution_count": null,
      "outputs": [
        {
          "output_type": "stream",
          "name": "stdout",
          "text": [
            "lgr: 81.715%, 1.818%\n",
            "knn: 81.080%, 0.628%\n",
            "gnb: 81.240%, 0.975%\n",
            "svc: 81.874%, 1.072%\n",
            "dtc: 73.450%, 0.608%\n",
            "rfc: 81.239%, 0.636%\n",
            "gbc: 77.741%, 0.501%\n",
            "mlp: 78.693%, 2.034%\n"
          ]
        }
      ]
    },
    {
      "cell_type": "code",
      "source": [],
      "metadata": {
        "id": "uDJDe3dthi2D"
      },
      "id": "uDJDe3dthi2D",
      "execution_count": null,
      "outputs": []
    }
  ],
  "metadata": {
    "kernelspec": {
      "display_name": "Python 3 (ipykernel)",
      "language": "python",
      "name": "python3"
    },
    "language_info": {
      "codemirror_mode": {
        "name": "ipython",
        "version": 3
      },
      "file_extension": ".py",
      "mimetype": "text/x-python",
      "name": "python",
      "nbconvert_exporter": "python",
      "pygments_lexer": "ipython3",
      "version": "3.11.3"
    },
    "colab": {
      "provenance": [],
      "include_colab_link": true
    }
  },
  "nbformat": 4,
  "nbformat_minor": 5
}