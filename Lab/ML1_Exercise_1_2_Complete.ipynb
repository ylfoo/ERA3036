{
 "cells": [
  {
   "cell_type": "code",
   "execution_count": 1,
   "id": "d6e70b5f-0d0a-4ebe-add7-1538bc6e1ae5",
   "metadata": {
    "tags": []
   },
   "outputs": [],
   "source": [
    "from pandas import read_csv\n",
    "from sklearn.linear_model import LogisticRegression\n",
    "from sklearn.neighbors import KNeighborsClassifier\n",
    "from sklearn.naive_bayes import GaussianNB\n",
    "from sklearn.svm import SVC\n",
    "from sklearn.tree import DecisionTreeClassifier\n",
    "from sklearn.ensemble import RandomForestClassifier, GradientBoostingClassifier\n",
    "from sklearn.neural_network import MLPClassifier\n",
    "from sklearn.model_selection import KFold, cross_val_score"
   ]
  },
  {
   "cell_type": "code",
   "execution_count": 2,
   "id": "b7280e5c-135b-46b3-ba37-c46391bd7f8e",
   "metadata": {
    "tags": []
   },
   "outputs": [
    {
     "data": {
      "text/html": [
       "<div>\n",
       "<style scoped>\n",
       "    .dataframe tbody tr th:only-of-type {\n",
       "        vertical-align: middle;\n",
       "    }\n",
       "\n",
       "    .dataframe tbody tr th {\n",
       "        vertical-align: top;\n",
       "    }\n",
       "\n",
       "    .dataframe thead th {\n",
       "        text-align: right;\n",
       "    }\n",
       "</style>\n",
       "<table border=\"1\" class=\"dataframe\">\n",
       "  <thead>\n",
       "    <tr style=\"text-align: right;\">\n",
       "      <th></th>\n",
       "      <th>bedroom</th>\n",
       "      <th>foyer</th>\n",
       "      <th>kitchen</th>\n",
       "      <th>living</th>\n",
       "      <th>soho</th>\n",
       "      <th>location</th>\n",
       "    </tr>\n",
       "  </thead>\n",
       "  <tbody>\n",
       "    <tr>\n",
       "      <th>0</th>\n",
       "      <td>-59</td>\n",
       "      <td>-90</td>\n",
       "      <td>-76</td>\n",
       "      <td>-67</td>\n",
       "      <td>-80</td>\n",
       "      <td>bedroom</td>\n",
       "    </tr>\n",
       "    <tr>\n",
       "      <th>1</th>\n",
       "      <td>-59</td>\n",
       "      <td>-95</td>\n",
       "      <td>-79</td>\n",
       "      <td>-77</td>\n",
       "      <td>-70</td>\n",
       "      <td>bedroom</td>\n",
       "    </tr>\n",
       "    <tr>\n",
       "      <th>2</th>\n",
       "      <td>-52</td>\n",
       "      <td>-81</td>\n",
       "      <td>-86</td>\n",
       "      <td>-90</td>\n",
       "      <td>-76</td>\n",
       "      <td>bedroom</td>\n",
       "    </tr>\n",
       "    <tr>\n",
       "      <th>3</th>\n",
       "      <td>-66</td>\n",
       "      <td>-83</td>\n",
       "      <td>-81</td>\n",
       "      <td>-69</td>\n",
       "      <td>-70</td>\n",
       "      <td>bedroom</td>\n",
       "    </tr>\n",
       "    <tr>\n",
       "      <th>4</th>\n",
       "      <td>-71</td>\n",
       "      <td>-91</td>\n",
       "      <td>-90</td>\n",
       "      <td>-77</td>\n",
       "      <td>-71</td>\n",
       "      <td>bedroom</td>\n",
       "    </tr>\n",
       "  </tbody>\n",
       "</table>\n",
       "</div>"
      ],
      "text/plain": [
       "   bedroom  foyer  kitchen  living  soho location\n",
       "0      -59    -90      -76     -67   -80  bedroom\n",
       "1      -59    -95      -79     -77   -70  bedroom\n",
       "2      -52    -81      -86     -90   -76  bedroom\n",
       "3      -66    -83      -81     -69   -70  bedroom\n",
       "4      -71    -91      -90     -77   -71  bedroom"
      ]
     },
     "execution_count": 2,
     "metadata": {},
     "output_type": "execute_result"
    }
   ],
   "source": [
    "df = read_csv(\"https://raw.githubusercontent.com/wooihaw/datasets/main/ips_basic.csv\")\n",
    "df.head()"
   ]
  },
  {
   "cell_type": "code",
   "execution_count": 3,
   "id": "895c9053-e115-4077-bbd2-54b8254c6af5",
   "metadata": {
    "tags": []
   },
   "outputs": [
    {
     "name": "stdout",
     "output_type": "stream",
     "text": [
      "<class 'pandas.core.frame.DataFrame'>\n",
      "RangeIndex: 629 entries, 0 to 628\n",
      "Data columns (total 6 columns):\n",
      " #   Column    Non-Null Count  Dtype \n",
      "---  ------    --------------  ----- \n",
      " 0   bedroom   629 non-null    int64 \n",
      " 1   foyer     629 non-null    int64 \n",
      " 2   kitchen   629 non-null    int64 \n",
      " 3   living    629 non-null    int64 \n",
      " 4   soho      629 non-null    int64 \n",
      " 5   location  629 non-null    object\n",
      "dtypes: int64(5), object(1)\n",
      "memory usage: 29.6+ KB\n"
     ]
    }
   ],
   "source": [
    "df.info()"
   ]
  },
  {
   "cell_type": "code",
   "execution_count": 4,
   "id": "4de42d2c-da55-4cc5-a88c-d63af8ccf6c4",
   "metadata": {
    "tags": []
   },
   "outputs": [
    {
     "data": {
      "text/plain": [
       "bedroom     0\n",
       "foyer       0\n",
       "kitchen     0\n",
       "living      0\n",
       "soho        0\n",
       "location    0\n",
       "dtype: int64"
      ]
     },
     "execution_count": 4,
     "metadata": {},
     "output_type": "execute_result"
    }
   ],
   "source": [
    "df.isna().sum()"
   ]
  },
  {
   "cell_type": "code",
   "execution_count": 5,
   "id": "4c817f90-1f78-4fc1-b07a-ae712d9d58ca",
   "metadata": {
    "tags": []
   },
   "outputs": [],
   "source": [
    "X = df.drop(columns=[\"location\"])\n",
    "y = df[\"location\"]"
   ]
  },
  {
   "cell_type": "code",
   "execution_count": 6,
   "id": "6b9f6e7a-436a-4174-8f7e-8a10ba4d27f3",
   "metadata": {
    "tags": []
   },
   "outputs": [
    {
     "name": "stdout",
     "output_type": "stream",
     "text": [
      "lgr: 81.715%, 1.818%\n",
      "knn: 81.080%, 0.628%\n",
      "gnb: 81.240%, 0.975%\n",
      "svc: 81.874%, 1.072%\n",
      "dtc: 74.085%, 1.200%\n",
      "rfc: 80.763%, 0.473%\n",
      "gbc: 77.900%, 0.643%\n",
      "mlp: 80.758%, 3.008%\n"
     ]
    }
   ],
   "source": [
    "models = {}\n",
    "models['lgr'] = LogisticRegression()\n",
    "models['knn'] = KNeighborsClassifier()\n",
    "models['gnb'] = GaussianNB()\n",
    "models['svc'] = SVC()\n",
    "models['dtc'] = DecisionTreeClassifier()\n",
    "models['rfc'] = RandomForestClassifier()\n",
    "models['gbc'] = GradientBoostingClassifier()\n",
    "models['mlp'] = MLPClassifier()\n",
    "\n",
    "kf = KFold(n_splits=3, shuffle=True, random_state=42)\n",
    "for m in models:\n",
    "    scores = cross_val_score(models[m], X, y, cv=kf, n_jobs=-1)\n",
    "    print(f\"{m}: {scores.mean():.3%}, {scores.std():.3%}\")\n"
   ]
  },
  {
   "cell_type": "code",
   "execution_count": 7,
   "id": "c013c10c-7886-4eb8-b9dc-6f601fadec97",
   "metadata": {
    "tags": []
   },
   "outputs": [
    {
     "name": "stdout",
     "output_type": "stream",
     "text": [
      "(629, 11)\n",
      "   bedroom  foyer  kitchen  living  soho location  mean_bedroom  mean_foyer  \\\n",
      "0      -59    -90      -76     -67   -80  bedroom           NaN         NaN   \n",
      "1      -59    -95      -79     -77   -70  bedroom           NaN         NaN   \n",
      "2      -52    -81      -86     -90   -76  bedroom           NaN         NaN   \n",
      "3      -66    -83      -81     -69   -70  bedroom           NaN         NaN   \n",
      "4      -71    -91      -90     -77   -71  bedroom         -61.4       -88.0   \n",
      "5      -68    -94      -74     -77   -71  bedroom         -63.2       -88.8   \n",
      "6      -83    -88      -75     -74   -76  bedroom         -68.0       -87.4   \n",
      "7      -67    -78      -76     -81   -66  bedroom         -71.0       -86.8   \n",
      "8      -61    -85      -84     -81   -84  bedroom         -70.0       -87.2   \n",
      "9      -68    -94      -88     -92   -87  bedroom         -69.4       -87.8   \n",
      "\n",
      "   mean_kitchen  mean_living  mean_soho  \n",
      "0           NaN          NaN        NaN  \n",
      "1           NaN          NaN        NaN  \n",
      "2           NaN          NaN        NaN  \n",
      "3           NaN          NaN        NaN  \n",
      "4         -82.4        -76.0      -73.4  \n",
      "5         -82.0        -78.0      -71.6  \n",
      "6         -81.2        -77.4      -72.8  \n",
      "7         -79.2        -75.6      -70.8  \n",
      "8         -79.8        -78.0      -73.6  \n",
      "9         -79.4        -81.0      -76.8  \n"
     ]
    }
   ],
   "source": [
    "win_size = 5\n",
    "df['mean_bedroom'] = df['bedroom'].rolling(win_size).mean()\n",
    "df['mean_foyer'] = df['foyer'].rolling(win_size).mean()\n",
    "df['mean_kitchen'] = df['kitchen'].rolling(win_size).mean()\n",
    "df['mean_living'] = df['living'].rolling(win_size).mean()\n",
    "df['mean_soho'] = df['soho'].rolling(win_size).mean()\n",
    "print(df.shape)\n",
    "print(df.head(10))"
   ]
  },
  {
   "cell_type": "code",
   "execution_count": 8,
   "id": "661be6ef-3a08-4f2e-b66c-54f53b0cbe87",
   "metadata": {
    "tags": []
   },
   "outputs": [
    {
     "name": "stdout",
     "output_type": "stream",
     "text": [
      "<class 'pandas.core.frame.DataFrame'>\n",
      "RangeIndex: 629 entries, 0 to 628\n",
      "Data columns (total 11 columns):\n",
      " #   Column        Non-Null Count  Dtype  \n",
      "---  ------        --------------  -----  \n",
      " 0   bedroom       629 non-null    int64  \n",
      " 1   foyer         629 non-null    int64  \n",
      " 2   kitchen       629 non-null    int64  \n",
      " 3   living        629 non-null    int64  \n",
      " 4   soho          629 non-null    int64  \n",
      " 5   location      629 non-null    object \n",
      " 6   mean_bedroom  625 non-null    float64\n",
      " 7   mean_foyer    625 non-null    float64\n",
      " 8   mean_kitchen  625 non-null    float64\n",
      " 9   mean_living   625 non-null    float64\n",
      " 10  mean_soho     625 non-null    float64\n",
      "dtypes: float64(5), int64(5), object(1)\n",
      "memory usage: 54.2+ KB\n"
     ]
    }
   ],
   "source": [
    "df.info()"
   ]
  },
  {
   "cell_type": "code",
   "execution_count": 9,
   "id": "339033d3-db6d-4577-8902-be3c515d1319",
   "metadata": {
    "tags": []
   },
   "outputs": [
    {
     "data": {
      "text/plain": [
       "bedroom         0\n",
       "foyer           0\n",
       "kitchen         0\n",
       "living          0\n",
       "soho            0\n",
       "location        0\n",
       "mean_bedroom    4\n",
       "mean_foyer      4\n",
       "mean_kitchen    4\n",
       "mean_living     4\n",
       "mean_soho       4\n",
       "dtype: int64"
      ]
     },
     "execution_count": 9,
     "metadata": {},
     "output_type": "execute_result"
    }
   ],
   "source": [
    "df.isna().sum()"
   ]
  },
  {
   "cell_type": "code",
   "execution_count": 10,
   "id": "ed5c50ca-6075-4666-af6a-880104bdcfe7",
   "metadata": {
    "tags": []
   },
   "outputs": [
    {
     "data": {
      "text/plain": [
       "bedroom         0\n",
       "foyer           0\n",
       "kitchen         0\n",
       "living          0\n",
       "soho            0\n",
       "location        0\n",
       "mean_bedroom    0\n",
       "mean_foyer      0\n",
       "mean_kitchen    0\n",
       "mean_living     0\n",
       "mean_soho       0\n",
       "dtype: int64"
      ]
     },
     "execution_count": 10,
     "metadata": {},
     "output_type": "execute_result"
    }
   ],
   "source": [
    "df = df.dropna()\n",
    "df.isna().sum()"
   ]
  },
  {
   "cell_type": "code",
   "execution_count": 11,
   "id": "53ebb688-c904-4c39-bd84-54ae484f470d",
   "metadata": {
    "tags": []
   },
   "outputs": [],
   "source": [
    "X2 = df.drop(columns=[\"location\"])\n",
    "y2 = df[\"location\"]"
   ]
  },
  {
   "cell_type": "code",
   "execution_count": 12,
   "id": "99eb8e14-22dd-4722-8688-06818551f921",
   "metadata": {
    "tags": []
   },
   "outputs": [
    {
     "name": "stdout",
     "output_type": "stream",
     "text": [
      "lgr: 96.960%, 0.230%\n",
      "knn: 98.400%, 0.228%\n",
      "gnb: 98.079%, 0.395%\n",
      "svc: 98.240%, 0.224%\n",
      "dtc: 96.957%, 1.488%\n",
      "rfc: 98.400%, 0.600%\n",
      "gbc: 98.080%, 0.393%\n",
      "mlp: 94.880%, 0.221%\n"
     ]
    }
   ],
   "source": [
    "# Performance by adding new features\n",
    "for m in models:\n",
    "    scores = cross_val_score(models[m], X2, y2, cv=kf, n_jobs=-1)\n",
    "    print(f\"{m}: {scores.mean():.3%}, {scores.std():.3%}\")"
   ]
  }
 ],
 "metadata": {
  "kernelspec": {
   "display_name": "Python 3 (ipykernel)",
   "language": "python",
   "name": "python3"
  },
  "language_info": {
   "codemirror_mode": {
    "name": "ipython",
    "version": 3
   },
   "file_extension": ".py",
   "mimetype": "text/x-python",
   "name": "python",
   "nbconvert_exporter": "python",
   "pygments_lexer": "ipython3",
   "version": "3.9.13"
  }
 },
 "nbformat": 4,
 "nbformat_minor": 5
}
