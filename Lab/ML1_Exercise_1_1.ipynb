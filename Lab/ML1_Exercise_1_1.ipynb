{
  "cells": [
    {
      "cell_type": "markdown",
      "metadata": {
        "id": "view-in-github",
        "colab_type": "text"
      },
      "source": [
        "<a href=\"https://colab.research.google.com/github/ylfoo/ERA3036/blob/main/Lab/ML1_Exercise_1_1.ipynb\" target=\"_parent\"><img src=\"https://colab.research.google.com/assets/colab-badge.svg\" alt=\"Open In Colab\"/></a>"
      ]
    },
    {
      "cell_type": "markdown",
      "id": "f481369f-56ae-415f-a5f9-378743c583ea",
      "metadata": {
        "id": "f481369f-56ae-415f-a5f9-378743c583ea"
      },
      "source": [
        "## ERA3036 Lab ML1\n",
        "### Exercise 1.1"
      ]
    },
    {
      "cell_type": "markdown",
      "id": "0853eedd-8ac6-4c5c-8811-1301a86b66f0",
      "metadata": {
        "id": "0853eedd-8ac6-4c5c-8811-1301a86b66f0"
      },
      "source": [
        "Name:  \n",
        "Student ID:  \n",
        "Date of experiment:  "
      ]
    },
    {
      "cell_type": "code",
      "execution_count": null,
      "id": "296b879e-4095-4fc5-aeaa-f31cdeba9cc3",
      "metadata": {
        "tags": [],
        "id": "296b879e-4095-4fc5-aeaa-f31cdeba9cc3"
      },
      "outputs": [],
      "source": [
        "from pandas import read_csv, DataFrame\n",
        "from sklearn.neighbors import KNeighborsRegressor\n",
        "from sklearn.linear_model import Ridge\n",
        "from sklearn.model_selection import train_test_split as split\n",
        "from sklearn.preprocessing import MinMaxScaler, StandardScaler, RobustScaler"
      ]
    },
    {
      "cell_type": "code",
      "execution_count": null,
      "id": "86edd8c8-4206-4920-8f81-df9aabf7addf",
      "metadata": {
        "tags": [],
        "id": "86edd8c8-4206-4920-8f81-df9aabf7addf"
      },
      "outputs": [],
      "source": [
        "# Load dataset and preview first 5 rows\n",
        "df = read_csv(\"https://raw.githubusercontent.com/wooihaw/datasets/main/real_estate_valuation_dataset.csv\")\n",
        "df.head()"
      ]
    },
    {
      "cell_type": "code",
      "execution_count": null,
      "id": "72eed537-2bf0-4b9d-8902-c85a02cd9429",
      "metadata": {
        "tags": [],
        "id": "72eed537-2bf0-4b9d-8902-c85a02cd9429"
      },
      "outputs": [],
      "source": [
        "# Separate into features (X) and targets (y)\n",
        "X = df.drop(columns=[\"House price of unit area\"])\n",
        "y = df[\"House price of unit area\"]"
      ]
    }
  ],
  "metadata": {
    "kernelspec": {
      "display_name": "Python 3 (ipykernel)",
      "language": "python",
      "name": "python3"
    },
    "language_info": {
      "codemirror_mode": {
        "name": "ipython",
        "version": 3
      },
      "file_extension": ".py",
      "mimetype": "text/x-python",
      "name": "python",
      "nbconvert_exporter": "python",
      "pygments_lexer": "ipython3",
      "version": "3.11.3"
    },
    "colab": {
      "provenance": [],
      "include_colab_link": true
    }
  },
  "nbformat": 4,
  "nbformat_minor": 5
}