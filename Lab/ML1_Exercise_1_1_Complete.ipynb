{
 "cells": [
  {
   "cell_type": "code",
   "execution_count": 1,
   "id": "296b879e-4095-4fc5-aeaa-f31cdeba9cc3",
   "metadata": {
    "tags": []
   },
   "outputs": [],
   "source": [
    "from pandas import read_csv, DataFrame\n",
    "from sklearn.neighbors import KNeighborsRegressor\n",
    "from sklearn.linear_model import Ridge\n",
    "from sklearn.model_selection import train_test_split as split\n",
    "from sklearn.preprocessing import MinMaxScaler, StandardScaler, RobustScaler"
   ]
  },
  {
   "cell_type": "code",
   "execution_count": 2,
   "id": "86edd8c8-4206-4920-8f81-df9aabf7addf",
   "metadata": {
    "tags": []
   },
   "outputs": [
    {
     "data": {
      "text/html": [
       "<div>\n",
       "<style scoped>\n",
       "    .dataframe tbody tr th:only-of-type {\n",
       "        vertical-align: middle;\n",
       "    }\n",
       "\n",
       "    .dataframe tbody tr th {\n",
       "        vertical-align: top;\n",
       "    }\n",
       "\n",
       "    .dataframe thead th {\n",
       "        text-align: right;\n",
       "    }\n",
       "</style>\n",
       "<table border=\"1\" class=\"dataframe\">\n",
       "  <thead>\n",
       "    <tr style=\"text-align: right;\">\n",
       "      <th></th>\n",
       "      <th>Transaction date</th>\n",
       "      <th>House age</th>\n",
       "      <th>Distance to the nearest MRT station</th>\n",
       "      <th>Number of convenience stores</th>\n",
       "      <th>Latitude</th>\n",
       "      <th>Longitude</th>\n",
       "      <th>House price of unit area</th>\n",
       "    </tr>\n",
       "  </thead>\n",
       "  <tbody>\n",
       "    <tr>\n",
       "      <th>0</th>\n",
       "      <td>2012.917</td>\n",
       "      <td>32.0</td>\n",
       "      <td>84.87882</td>\n",
       "      <td>10</td>\n",
       "      <td>24.98298</td>\n",
       "      <td>121.54024</td>\n",
       "      <td>37.9</td>\n",
       "    </tr>\n",
       "    <tr>\n",
       "      <th>1</th>\n",
       "      <td>2012.917</td>\n",
       "      <td>19.5</td>\n",
       "      <td>306.59470</td>\n",
       "      <td>9</td>\n",
       "      <td>24.98034</td>\n",
       "      <td>121.53951</td>\n",
       "      <td>42.2</td>\n",
       "    </tr>\n",
       "    <tr>\n",
       "      <th>2</th>\n",
       "      <td>2013.583</td>\n",
       "      <td>13.3</td>\n",
       "      <td>561.98450</td>\n",
       "      <td>5</td>\n",
       "      <td>24.98746</td>\n",
       "      <td>121.54391</td>\n",
       "      <td>47.3</td>\n",
       "    </tr>\n",
       "    <tr>\n",
       "      <th>3</th>\n",
       "      <td>2013.500</td>\n",
       "      <td>13.3</td>\n",
       "      <td>561.98450</td>\n",
       "      <td>5</td>\n",
       "      <td>24.98746</td>\n",
       "      <td>121.54391</td>\n",
       "      <td>54.8</td>\n",
       "    </tr>\n",
       "    <tr>\n",
       "      <th>4</th>\n",
       "      <td>2012.833</td>\n",
       "      <td>5.0</td>\n",
       "      <td>390.56840</td>\n",
       "      <td>5</td>\n",
       "      <td>24.97937</td>\n",
       "      <td>121.54245</td>\n",
       "      <td>43.1</td>\n",
       "    </tr>\n",
       "  </tbody>\n",
       "</table>\n",
       "</div>"
      ],
      "text/plain": [
       "   Transaction date  House age  Distance to the nearest MRT station  \\\n",
       "0          2012.917       32.0                             84.87882   \n",
       "1          2012.917       19.5                            306.59470   \n",
       "2          2013.583       13.3                            561.98450   \n",
       "3          2013.500       13.3                            561.98450   \n",
       "4          2012.833        5.0                            390.56840   \n",
       "\n",
       "   Number of convenience stores  Latitude  Longitude  House price of unit area  \n",
       "0                            10  24.98298  121.54024                      37.9  \n",
       "1                             9  24.98034  121.53951                      42.2  \n",
       "2                             5  24.98746  121.54391                      47.3  \n",
       "3                             5  24.98746  121.54391                      54.8  \n",
       "4                             5  24.97937  121.54245                      43.1  "
      ]
     },
     "execution_count": 2,
     "metadata": {},
     "output_type": "execute_result"
    }
   ],
   "source": [
    "df = read_csv(\"https://raw.githubusercontent.com/wooihaw/datasets/main/real_estate_valuation_dataset.csv\")\n",
    "df.head()"
   ]
  },
  {
   "cell_type": "code",
   "execution_count": 3,
   "id": "72eed537-2bf0-4b9d-8902-c85a02cd9429",
   "metadata": {
    "tags": []
   },
   "outputs": [],
   "source": [
    "X = df.drop(columns=[\"House price of unit area\"])\n",
    "y = df[\"House price of unit area\"]\n",
    "\n",
    "X_train, X_test, y_train, y_test = split(X, y, test_size=0.25, random_state=42)"
   ]
  },
  {
   "cell_type": "code",
   "execution_count": 4,
   "id": "98da3cf5-c937-422c-953c-3a613b220607",
   "metadata": {
    "tags": []
   },
   "outputs": [],
   "source": [
    "keys = ['No scaling', 'MinMaxScaler', 'StandardScaler', 'RobustScaler']"
   ]
  },
  {
   "cell_type": "code",
   "execution_count": 5,
   "id": "988b8dba-f837-426b-80d2-63ae0467b372",
   "metadata": {
    "tags": []
   },
   "outputs": [],
   "source": [
    "ridge_scores = dict(zip(keys, [[], [], [], []]))\n",
    "for a in range(10):\n",
    "    ridge = Ridge(alpha=a*10).fit(X_train, y_train)\n",
    "    ridge_scores['No scaling'].append(ridge.score(X_test, y_test))"
   ]
  },
  {
   "cell_type": "code",
   "execution_count": 6,
   "id": "89f3b597-6212-466b-b667-577eee0ba150",
   "metadata": {
    "tags": []
   },
   "outputs": [],
   "source": [
    "knn_scores = dict(zip(keys, [[], [], [], []]))\n",
    "for k in range(1, 11):\n",
    "    knn = KNeighborsRegressor(n_neighbors=k).fit(X_train, y_train)\n",
    "    knn_scores['No scaling'].append(knn.score(X_test, y_test))"
   ]
  },
  {
   "cell_type": "code",
   "execution_count": 7,
   "id": "4e73d52c-5d28-4674-ba75-e0f55d84fa53",
   "metadata": {
    "tags": []
   },
   "outputs": [
    {
     "name": "stdout",
     "output_type": "stream",
     "text": [
      "{'No scaling': [0.5796624182861202, 0.556516464928763, 0.5558674264689027, 0.5549527235406654, 0.5540792727088005, 0.5533072217351883, 0.5526363643870258, 0.5520528826176566, 0.55154173693648, 0.5510897870391724], 'MinMaxScaler': [], 'StandardScaler': [], 'RobustScaler': []}\n",
      "{'No scaling': [0.5946317867520786, 0.6551453782089411, 0.6551375481870814, 0.6439275458428156, 0.6095640001350416, 0.6069253588794992, 0.5902132914988957, 0.595895552280236, 0.6036374906037147, 0.6145513805490412], 'MinMaxScaler': [], 'StandardScaler': [], 'RobustScaler': []}\n"
     ]
    }
   ],
   "source": [
    "print(ridge_scores)\n",
    "print(knn_scores)"
   ]
  },
  {
   "cell_type": "code",
   "execution_count": 8,
   "id": "7d2f4a70-bd33-4093-a315-0d70d9ccf1f9",
   "metadata": {
    "tags": []
   },
   "outputs": [],
   "source": [
    "scalers = (None, MinMaxScaler(), StandardScaler(), RobustScaler())\n",
    "\n",
    "for i, key in enumerate(keys):\n",
    "    if key == 'No scaling':\n",
    "        continue\n",
    "    scl = scalers[i]\n",
    "    Xs_train = scl.fit_transform(X_train)\n",
    "    Xs_test = scl.transform(X_test)\n",
    "    for a in range(10):\n",
    "        ridge = Ridge(alpha=a*10).fit(Xs_train, y_train)\n",
    "        ridge_scores[key].append(ridge.score(Xs_test, y_test))\n",
    "    for k in range(1, 11):\n",
    "        knn = KNeighborsRegressor(n_neighbors=k).fit(Xs_train, y_train)\n",
    "        knn_scores[key].append(knn.score(Xs_test, y_test))\n"
   ]
  },
  {
   "cell_type": "code",
   "execution_count": 9,
   "id": "fdf27b6d-0801-43a7-95d5-6ce40decddbf",
   "metadata": {
    "tags": []
   },
   "outputs": [
    {
     "name": "stdout",
     "output_type": "stream",
     "text": [
      "{'No scaling': [0.5796624182861202, 0.556516464928763, 0.5558674264689027, 0.5549527235406654, 0.5540792727088005, 0.5533072217351883, 0.5526363643870258, 0.5520528826176566, 0.55154173693648, 0.5510897870391724], 'MinMaxScaler': [0.5796624182861772, 0.5571567546453898, 0.502203424641247, 0.4502586550162119, 0.4047576724116998, 0.3656105160775531, 0.3319736114583852, 0.3029415855959484, 0.27772101524633397, 0.25565754076047387], 'StandardScaler': [0.5796624182861826, 0.5845874777204771, 0.5874572333349921, 0.5891019025478204, 0.5899377136567463, 0.5901979048170207, 0.5900251406436804, 0.58951304861583, 0.5887266869711805, 0.5877134187936146], 'RobustScaler': [0.5796624182861827, 0.5835715405253634, 0.5847857459399439, 0.5843601601486879, 0.5829101466687434, 0.5808087497812973, 0.5782890861905312, 0.5755003683710598, 0.5725399272954069, 0.569472191415292]}\n",
      "{'No scaling': [0.5946317867520786, 0.6551453782089411, 0.6551375481870814, 0.6439275458428156, 0.6095640001350416, 0.6069253588794992, 0.5902132914988957, 0.595895552280236, 0.6036374906037147, 0.6145513805490412], 'MinMaxScaler': [0.430463810237388, 0.5744848879256913, 0.6279226822736347, 0.655487537535143, 0.6409037121344806, 0.6337559306878227, 0.6280549551748406, 0.6336021181172826, 0.6443712438073299, 0.6350010496503746], 'StandardScaler': [0.436084452509639, 0.6435744750022803, 0.6364074623483846, 0.6291621831534052, 0.6379576517600458, 0.645705840630007, 0.6458793220926045, 0.6524642997925041, 0.6588663524035401, 0.6556687611178538], 'RobustScaler': [0.44273562669116817, 0.6393291381824849, 0.6745198327498005, 0.6654100064461869, 0.6843928861403064, 0.6866018427381986, 0.6903440893990322, 0.6910544141365477, 0.6860915086682959, 0.6747785205068388]}\n"
     ]
    }
   ],
   "source": [
    "print(ridge_scores)\n",
    "print(knn_scores)"
   ]
  },
  {
   "cell_type": "code",
   "execution_count": 10,
   "id": "727059c7-af44-4b35-a333-232c58fe827b",
   "metadata": {
    "tags": []
   },
   "outputs": [
    {
     "data": {
      "text/html": [
       "<div>\n",
       "<style scoped>\n",
       "    .dataframe tbody tr th:only-of-type {\n",
       "        vertical-align: middle;\n",
       "    }\n",
       "\n",
       "    .dataframe tbody tr th {\n",
       "        vertical-align: top;\n",
       "    }\n",
       "\n",
       "    .dataframe thead th {\n",
       "        text-align: right;\n",
       "    }\n",
       "</style>\n",
       "<table border=\"1\" class=\"dataframe\">\n",
       "  <thead>\n",
       "    <tr style=\"text-align: right;\">\n",
       "      <th></th>\n",
       "      <th>No scaling</th>\n",
       "      <th>MinMaxScaler</th>\n",
       "      <th>StandardScaler</th>\n",
       "      <th>RobustScaler</th>\n",
       "      <th>alpha</th>\n",
       "    </tr>\n",
       "  </thead>\n",
       "  <tbody>\n",
       "    <tr>\n",
       "      <th>0</th>\n",
       "      <td>0.579662</td>\n",
       "      <td>0.579662</td>\n",
       "      <td>0.579662</td>\n",
       "      <td>0.579662</td>\n",
       "      <td>0</td>\n",
       "    </tr>\n",
       "    <tr>\n",
       "      <th>1</th>\n",
       "      <td>0.556516</td>\n",
       "      <td>0.557157</td>\n",
       "      <td>0.584587</td>\n",
       "      <td>0.583572</td>\n",
       "      <td>10</td>\n",
       "    </tr>\n",
       "    <tr>\n",
       "      <th>2</th>\n",
       "      <td>0.555867</td>\n",
       "      <td>0.502203</td>\n",
       "      <td>0.587457</td>\n",
       "      <td>0.584786</td>\n",
       "      <td>20</td>\n",
       "    </tr>\n",
       "    <tr>\n",
       "      <th>3</th>\n",
       "      <td>0.554953</td>\n",
       "      <td>0.450259</td>\n",
       "      <td>0.589102</td>\n",
       "      <td>0.584360</td>\n",
       "      <td>30</td>\n",
       "    </tr>\n",
       "    <tr>\n",
       "      <th>4</th>\n",
       "      <td>0.554079</td>\n",
       "      <td>0.404758</td>\n",
       "      <td>0.589938</td>\n",
       "      <td>0.582910</td>\n",
       "      <td>40</td>\n",
       "    </tr>\n",
       "    <tr>\n",
       "      <th>5</th>\n",
       "      <td>0.553307</td>\n",
       "      <td>0.365611</td>\n",
       "      <td>0.590198</td>\n",
       "      <td>0.580809</td>\n",
       "      <td>50</td>\n",
       "    </tr>\n",
       "    <tr>\n",
       "      <th>6</th>\n",
       "      <td>0.552636</td>\n",
       "      <td>0.331974</td>\n",
       "      <td>0.590025</td>\n",
       "      <td>0.578289</td>\n",
       "      <td>60</td>\n",
       "    </tr>\n",
       "    <tr>\n",
       "      <th>7</th>\n",
       "      <td>0.552053</td>\n",
       "      <td>0.302942</td>\n",
       "      <td>0.589513</td>\n",
       "      <td>0.575500</td>\n",
       "      <td>70</td>\n",
       "    </tr>\n",
       "    <tr>\n",
       "      <th>8</th>\n",
       "      <td>0.551542</td>\n",
       "      <td>0.277721</td>\n",
       "      <td>0.588727</td>\n",
       "      <td>0.572540</td>\n",
       "      <td>80</td>\n",
       "    </tr>\n",
       "    <tr>\n",
       "      <th>9</th>\n",
       "      <td>0.551090</td>\n",
       "      <td>0.255658</td>\n",
       "      <td>0.587713</td>\n",
       "      <td>0.569472</td>\n",
       "      <td>90</td>\n",
       "    </tr>\n",
       "  </tbody>\n",
       "</table>\n",
       "</div>"
      ],
      "text/plain": [
       "   No scaling  MinMaxScaler  StandardScaler  RobustScaler  alpha\n",
       "0    0.579662      0.579662        0.579662      0.579662      0\n",
       "1    0.556516      0.557157        0.584587      0.583572     10\n",
       "2    0.555867      0.502203        0.587457      0.584786     20\n",
       "3    0.554953      0.450259        0.589102      0.584360     30\n",
       "4    0.554079      0.404758        0.589938      0.582910     40\n",
       "5    0.553307      0.365611        0.590198      0.580809     50\n",
       "6    0.552636      0.331974        0.590025      0.578289     60\n",
       "7    0.552053      0.302942        0.589513      0.575500     70\n",
       "8    0.551542      0.277721        0.588727      0.572540     80\n",
       "9    0.551090      0.255658        0.587713      0.569472     90"
      ]
     },
     "execution_count": 10,
     "metadata": {},
     "output_type": "execute_result"
    }
   ],
   "source": [
    "ridge_df = DataFrame.from_dict(ridge_scores)\n",
    "ridge_df['alpha'] = [10*i for i in range(10)]\n",
    "ridge_df"
   ]
  },
  {
   "cell_type": "code",
   "execution_count": 11,
   "id": "646d2e0a-bc03-42c7-a6c4-a791b314a1d2",
   "metadata": {
    "tags": []
   },
   "outputs": [
    {
     "data": {
      "text/plain": [
       "No scaling         0.579662\n",
       "MinMaxScaler       0.579662\n",
       "StandardScaler     0.590198\n",
       "RobustScaler       0.584786\n",
       "alpha             90.000000\n",
       "dtype: float64"
      ]
     },
     "execution_count": 11,
     "metadata": {},
     "output_type": "execute_result"
    }
   ],
   "source": [
    "ridge_df.max()"
   ]
  },
  {
   "cell_type": "code",
   "execution_count": 12,
   "id": "0a3a12f6-4932-4d02-8631-fbcb0f9513cb",
   "metadata": {
    "tags": []
   },
   "outputs": [
    {
     "data": {
      "text/html": [
       "<div>\n",
       "<style scoped>\n",
       "    .dataframe tbody tr th:only-of-type {\n",
       "        vertical-align: middle;\n",
       "    }\n",
       "\n",
       "    .dataframe tbody tr th {\n",
       "        vertical-align: top;\n",
       "    }\n",
       "\n",
       "    .dataframe thead th {\n",
       "        text-align: right;\n",
       "    }\n",
       "</style>\n",
       "<table border=\"1\" class=\"dataframe\">\n",
       "  <thead>\n",
       "    <tr style=\"text-align: right;\">\n",
       "      <th></th>\n",
       "      <th>No scaling</th>\n",
       "      <th>MinMaxScaler</th>\n",
       "      <th>StandardScaler</th>\n",
       "      <th>RobustScaler</th>\n",
       "      <th>k</th>\n",
       "    </tr>\n",
       "  </thead>\n",
       "  <tbody>\n",
       "    <tr>\n",
       "      <th>0</th>\n",
       "      <td>0.594632</td>\n",
       "      <td>0.430464</td>\n",
       "      <td>0.436084</td>\n",
       "      <td>0.442736</td>\n",
       "      <td>1</td>\n",
       "    </tr>\n",
       "    <tr>\n",
       "      <th>1</th>\n",
       "      <td>0.655145</td>\n",
       "      <td>0.574485</td>\n",
       "      <td>0.643574</td>\n",
       "      <td>0.639329</td>\n",
       "      <td>2</td>\n",
       "    </tr>\n",
       "    <tr>\n",
       "      <th>2</th>\n",
       "      <td>0.655138</td>\n",
       "      <td>0.627923</td>\n",
       "      <td>0.636407</td>\n",
       "      <td>0.674520</td>\n",
       "      <td>3</td>\n",
       "    </tr>\n",
       "    <tr>\n",
       "      <th>3</th>\n",
       "      <td>0.643928</td>\n",
       "      <td>0.655488</td>\n",
       "      <td>0.629162</td>\n",
       "      <td>0.665410</td>\n",
       "      <td>4</td>\n",
       "    </tr>\n",
       "    <tr>\n",
       "      <th>4</th>\n",
       "      <td>0.609564</td>\n",
       "      <td>0.640904</td>\n",
       "      <td>0.637958</td>\n",
       "      <td>0.684393</td>\n",
       "      <td>5</td>\n",
       "    </tr>\n",
       "    <tr>\n",
       "      <th>5</th>\n",
       "      <td>0.606925</td>\n",
       "      <td>0.633756</td>\n",
       "      <td>0.645706</td>\n",
       "      <td>0.686602</td>\n",
       "      <td>6</td>\n",
       "    </tr>\n",
       "    <tr>\n",
       "      <th>6</th>\n",
       "      <td>0.590213</td>\n",
       "      <td>0.628055</td>\n",
       "      <td>0.645879</td>\n",
       "      <td>0.690344</td>\n",
       "      <td>7</td>\n",
       "    </tr>\n",
       "    <tr>\n",
       "      <th>7</th>\n",
       "      <td>0.595896</td>\n",
       "      <td>0.633602</td>\n",
       "      <td>0.652464</td>\n",
       "      <td>0.691054</td>\n",
       "      <td>8</td>\n",
       "    </tr>\n",
       "    <tr>\n",
       "      <th>8</th>\n",
       "      <td>0.603637</td>\n",
       "      <td>0.644371</td>\n",
       "      <td>0.658866</td>\n",
       "      <td>0.686092</td>\n",
       "      <td>9</td>\n",
       "    </tr>\n",
       "    <tr>\n",
       "      <th>9</th>\n",
       "      <td>0.614551</td>\n",
       "      <td>0.635001</td>\n",
       "      <td>0.655669</td>\n",
       "      <td>0.674779</td>\n",
       "      <td>10</td>\n",
       "    </tr>\n",
       "  </tbody>\n",
       "</table>\n",
       "</div>"
      ],
      "text/plain": [
       "   No scaling  MinMaxScaler  StandardScaler  RobustScaler   k\n",
       "0    0.594632      0.430464        0.436084      0.442736   1\n",
       "1    0.655145      0.574485        0.643574      0.639329   2\n",
       "2    0.655138      0.627923        0.636407      0.674520   3\n",
       "3    0.643928      0.655488        0.629162      0.665410   4\n",
       "4    0.609564      0.640904        0.637958      0.684393   5\n",
       "5    0.606925      0.633756        0.645706      0.686602   6\n",
       "6    0.590213      0.628055        0.645879      0.690344   7\n",
       "7    0.595896      0.633602        0.652464      0.691054   8\n",
       "8    0.603637      0.644371        0.658866      0.686092   9\n",
       "9    0.614551      0.635001        0.655669      0.674779  10"
      ]
     },
     "execution_count": 12,
     "metadata": {},
     "output_type": "execute_result"
    }
   ],
   "source": [
    "knn_df = DataFrame.from_dict(knn_scores)\n",
    "knn_df['k'] = range(1, 11)\n",
    "knn_df"
   ]
  },
  {
   "cell_type": "code",
   "execution_count": 13,
   "id": "3667eb34-c64e-453e-9998-67eb3f662348",
   "metadata": {},
   "outputs": [
    {
     "data": {
      "text/plain": [
       "No scaling         0.655145\n",
       "MinMaxScaler       0.655488\n",
       "StandardScaler     0.658866\n",
       "RobustScaler       0.691054\n",
       "k                 10.000000\n",
       "dtype: float64"
      ]
     },
     "execution_count": 13,
     "metadata": {},
     "output_type": "execute_result"
    }
   ],
   "source": [
    "knn_df.max()"
   ]
  }
 ],
 "metadata": {
  "kernelspec": {
   "display_name": "Python 3 (ipykernel)",
   "language": "python",
   "name": "python3"
  },
  "language_info": {
   "codemirror_mode": {
    "name": "ipython",
    "version": 3
   },
   "file_extension": ".py",
   "mimetype": "text/x-python",
   "name": "python",
   "nbconvert_exporter": "python",
   "pygments_lexer": "ipython3",
   "version": "3.9.13"
  }
 },
 "nbformat": 4,
 "nbformat_minor": 5
}
